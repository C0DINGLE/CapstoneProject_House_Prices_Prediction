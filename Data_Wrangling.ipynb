{
 "cells": [
  {
   "cell_type": "markdown",
   "metadata": {
    "collapsed": true
   },
   "source": [
    "# Import all the required libraries "
   ]
  },
  {
   "cell_type": "code",
   "execution_count": null,
   "metadata": {},
   "outputs": [],
   "source": [
    "import numpy as np\n",
    "import pandas as pd\n",
    "import datetime as dt"
   ]
  },
  {
   "cell_type": "markdown",
   "metadata": {},
   "source": [
    "**Read the house prices table $train.csv$ into DataFrame house_prices**"
   ]
  },
  {
   "cell_type": "code",
   "execution_count": null,
   "metadata": {},
   "outputs": [],
   "source": [
    "house_prices = pd.read_csv(\"train.csv\")"
   ]
  },
  {
   "cell_type": "code",
   "execution_count": null,
   "metadata": {},
   "outputs": [],
   "source": [
    "# Display the first five records in the dataframe\n",
    "house_prices.head()"
   ]
  },
  {
   "cell_type": "markdown",
   "metadata": {
    "collapsed": true
   },
   "source": [
    "h_p is the copy of DataFrame train_house_prices"
   ]
  },
  {
   "cell_type": "code",
   "execution_count": null,
   "metadata": {},
   "outputs": [],
   "source": [
    "h_p = house_prices.copy()"
   ]
  },
  {
   "cell_type": "code",
   "execution_count": null,
   "metadata": {},
   "outputs": [],
   "source": [
    "h_p.shape"
   ]
  },
  {
   "cell_type": "code",
   "execution_count": null,
   "metadata": {},
   "outputs": [],
   "source": [
    "# info() is a very useful function that displays all the varible names, thier data types and null values in each variable/coulmn \n",
    "h_p.info()"
   ]
  },
  {
   "cell_type": "code",
   "execution_count": null,
   "metadata": {},
   "outputs": [],
   "source": [
    "h_p.describe()      #other atributes of the dataframe"
   ]
  },
  {
   "cell_type": "code",
   "execution_count": null,
   "metadata": {},
   "outputs": [],
   "source": [
    "# all numeric (float and int) variables in the dataset\n",
    "house_numeric = h_p.select_dtypes(include=['float64', 'int64'])\n",
    "house_numeric.head()"
   ]
  },
  {
   "cell_type": "code",
   "execution_count": null,
   "metadata": {},
   "outputs": [],
   "source": [
    "house_numeric.info()"
   ]
  },
  {
   "cell_type": "markdown",
   "metadata": {},
   "source": [
    "###### Some of these numerical data columns can be considered as ordinal categorical data so we can drop them from the numerical dataset\n",
    "\n",
    "* For example Fireplaces, HalfBath/FullBath etc."
   ]
  },
  {
   "cell_type": "code",
   "execution_count": null,
   "metadata": {},
   "outputs": [],
   "source": [
    "# dropping the columns we want to treat as categorical variables\n",
    "# house_numeric = house_numeric.drop(['MSSubClass', 'OverallQual', 'OverallCond', 'YearBuilt', 'YearRemodAdd', \n",
    "                              #      'BsmtFullBath', 'BsmtHalfBath', 'FullBath', 'HalfBath', 'BedroomAbvGr', \n",
    "                               #    'KitchenAbvGr', 'TotRmsAbvGrd', 'Fireplaces', 'GarageYrBlt', 'GarageCars', \n",
    "                             #     'MoSold', 'YrSold'], axis=1) \n",
    "house_numeric.shape"
   ]
  },
  {
   "cell_type": "markdown",
   "metadata": {},
   "source": [
    "# DATA MUNGING & DATA CLEANING\n"
   ]
  },
  {
   "cell_type": "markdown",
   "metadata": {},
   "source": [
    "A couple of columns in the housing prices data contain null values. Instead of using the backward/ forward filling method, I introduced a class/category 'missing' for all the NaNs in the categorical variables. This way we are retaining the original information instead of guessing things."
   ]
  },
  {
   "cell_type": "code",
   "execution_count": null,
   "metadata": {},
   "outputs": [],
   "source": [
    "h_p.MasVnrType=[\"missing\" if x is np.nan else x for x in h_p.MasVnrType]"
   ]
  },
  {
   "cell_type": "code",
   "execution_count": null,
   "metadata": {},
   "outputs": [],
   "source": [
    "h_p.Electrical=[\"missing\" if x is np.nan else x for x in h_p.Electrical]"
   ]
  },
  {
   "cell_type": "markdown",
   "metadata": {},
   "source": [
    "To test whether the Nan's are replaced with 'missing we will use 'unique' function to find out the unique number of categories in each coulumn."
   ]
  },
  {
   "cell_type": "code",
   "execution_count": null,
   "metadata": {},
   "outputs": [],
   "source": [
    "print(h_p.MasVnrType.unique())\n",
    "print(h_p.Electrical.unique())"
   ]
  },
  {
   "cell_type": "markdown",
   "metadata": {},
   "source": [
    "**We have successfully introduced a new category 'missing' to our data.**"
   ]
  },
  {
   "cell_type": "markdown",
   "metadata": {},
   "source": [
    "In our data set there are a few column values coded as 'NA' if a certain feature is not present in the house. But all these NA's are entered wrongly as Nan (null values) in the data set. I decoded all the NA's as _'No (feature name)'_ so that NA is not to be confused as missing data. "
   ]
  },
  {
   "cell_type": "code",
   "execution_count": null,
   "metadata": {},
   "outputs": [],
   "source": [
    "h_p.FireplaceQu=[\"No Fireplace\" if x is np.nan else x for x in h_p.FireplaceQu]"
   ]
  },
  {
   "cell_type": "code",
   "execution_count": null,
   "metadata": {},
   "outputs": [],
   "source": [
    "h_p.Alley=[\"No alley access\" if x is np.nan else x for x in h_p.Alley]"
   ]
  },
  {
   "cell_type": "code",
   "execution_count": null,
   "metadata": {},
   "outputs": [],
   "source": [
    "h_p.PoolQC=[\"No Pool\" if x is np.nan else x for x in h_p.PoolQC]"
   ]
  },
  {
   "cell_type": "code",
   "execution_count": null,
   "metadata": {},
   "outputs": [],
   "source": [
    "h_p.Fence=[\"No Fence\" if x is np.nan else x for x in h_p.Fence]"
   ]
  },
  {
   "cell_type": "code",
   "execution_count": null,
   "metadata": {},
   "outputs": [],
   "source": [
    "h_p.MiscFeature=[\"None\" if x is np.nan else x for x in h_p.MiscFeature]"
   ]
  },
  {
   "cell_type": "code",
   "execution_count": null,
   "metadata": {},
   "outputs": [],
   "source": [
    "h_p.BsmtQual=[\"No Bsmnt\" if x is np.nan else x for x in h_p.BsmtQual]"
   ]
  },
  {
   "cell_type": "code",
   "execution_count": null,
   "metadata": {},
   "outputs": [],
   "source": [
    "h_p.BsmtCond=[\"No Bsmnt\" if x is np.nan else x for x in h_p.BsmtCond]"
   ]
  },
  {
   "cell_type": "code",
   "execution_count": null,
   "metadata": {},
   "outputs": [],
   "source": [
    "h_p.BsmtExposure=[\"No Bsmnt\" if x is np.nan else x for x in h_p.BsmtExposure]"
   ]
  },
  {
   "cell_type": "code",
   "execution_count": null,
   "metadata": {},
   "outputs": [],
   "source": [
    "h_p.BsmtFinType1=[\"No Bsmnt\" if x is np.nan else x for x in h_p.BsmtFinType1]"
   ]
  },
  {
   "cell_type": "code",
   "execution_count": null,
   "metadata": {},
   "outputs": [],
   "source": [
    "h_p.BsmtFinType2=[\"No Bsmnt\" if x is np.nan else x for x in h_p.BsmtFinType2]"
   ]
  },
  {
   "cell_type": "code",
   "execution_count": null,
   "metadata": {},
   "outputs": [],
   "source": [
    "h_p.GarageType=[\"No Grg\" if x is np.nan else x for x in h_p.GarageType]"
   ]
  },
  {
   "cell_type": "code",
   "execution_count": null,
   "metadata": {},
   "outputs": [],
   "source": [
    "h_p.GarageFinish=[\"No Grg\" if x is np.nan else x for x in h_p.GarageFinish]"
   ]
  },
  {
   "cell_type": "code",
   "execution_count": null,
   "metadata": {},
   "outputs": [],
   "source": [
    "h_p.GarageCond=[\"No Grg\" if x is np.nan else x for x in h_p.GarageCond]"
   ]
  },
  {
   "cell_type": "code",
   "execution_count": null,
   "metadata": {},
   "outputs": [],
   "source": [
    "h_p.GarageQual=[\"No Grg\" if x is np.nan else x for x in h_p.GarageQual]"
   ]
  },
  {
   "cell_type": "markdown",
   "metadata": {},
   "source": [
    "Let's check if all the 'NA' values were coded correctly."
   ]
  },
  {
   "cell_type": "code",
   "execution_count": null,
   "metadata": {},
   "outputs": [],
   "source": [
    "print(h_p.FireplaceQu.unique())\n",
    "print(h_p.Alley.unique())\n",
    "print(h_p.PoolQC.unique())\n",
    "print(h_p.Fence.unique())\n",
    "print(h_p.MiscFeature.unique())\n",
    "print(h_p.BsmtQual.unique())\n",
    "print(h_p.BsmtCond.unique())\n",
    "print(h_p.BsmtExposure.unique())\n",
    "print(h_p.BsmtFinType1.unique())\n",
    "print(h_p.BsmtFinType2.unique())\n",
    "print(h_p.GarageType.unique())\n",
    "print(h_p.GarageFinish.unique())\n",
    "print(h_p.GarageCond.unique())\n",
    "print(h_p.GarageQual.unique())"
   ]
  },
  {
   "cell_type": "markdown",
   "metadata": {},
   "source": [
    "**All the 'NA's' are gone and are decoded by the codes mentioned above.**"
   ]
  },
  {
   "cell_type": "markdown",
   "metadata": {},
   "source": [
    "Numerical variables like LotFrontage, GarageYrBlt, MasVnrArea have null values. I used mean imputation to deal with missing values.\n",
    "\n",
    "Mean imputation is a method in which the missing value on a certain variable is replaced by the mean of the available cases. "
   ]
  },
  {
   "cell_type": "code",
   "execution_count": null,
   "metadata": {},
   "outputs": [],
   "source": [
    "h_p['LotFrontage'].interpolate(method='linear', axis=0, inplace=True)"
   ]
  },
  {
   "cell_type": "code",
   "execution_count": null,
   "metadata": {},
   "outputs": [],
   "source": [
    "h_p['GarageYrBlt'].interpolate(method='linear', axis=0, inplace=True)"
   ]
  },
  {
   "cell_type": "code",
   "execution_count": null,
   "metadata": {},
   "outputs": [],
   "source": [
    "h_p['MasVnrArea'].interpolate(method='linear', axis=0, inplace=True)"
   ]
  },
  {
   "cell_type": "markdown",
   "metadata": {},
   "source": [
    "**Check if h_p has any null values**"
   ]
  },
  {
   "cell_type": "code",
   "execution_count": null,
   "metadata": {},
   "outputs": [],
   "source": [
    "h_p.isnull().values.any()"
   ]
  },
  {
   "cell_type": "markdown",
   "metadata": {},
   "source": [
    "**The data is now clean without any missing values and ready to use for further analysis. Let us import the cleaned dataframe into a csv file for further analaysis**"
   ]
  },
  {
   "cell_type": "code",
   "execution_count": null,
   "metadata": {},
   "outputs": [],
   "source": [
    "h_p.to_csv('E:\\Data Science\\Capstone Project - House prices\\Data Story\\house_prices_cleaned.csv', index=False)"
   ]
  },
  {
   "cell_type": "code",
   "execution_count": null,
   "metadata": {},
   "outputs": [],
   "source": []
  }
 ],
 "metadata": {
  "kernelspec": {
   "display_name": "Python 3",
   "language": "python",
   "name": "python3"
  },
  "language_info": {
   "codemirror_mode": {
    "name": "ipython",
    "version": 3
   },
   "file_extension": ".py",
   "mimetype": "text/x-python",
   "name": "python",
   "nbconvert_exporter": "python",
   "pygments_lexer": "ipython3",
   "version": "3.8.2"
  }
 },
 "nbformat": 4,
 "nbformat_minor": 2
}
